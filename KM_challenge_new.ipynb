{
 "cells": [
  {
   "cell_type": "markdown",
   "id": "fourth-republic",
   "metadata": {
    "id": "fourth-republic"
   },
   "source": [
    "# Kernel Methods: Challenge"
   ]
  },
  {
   "cell_type": "markdown",
   "id": "surrounded-shift",
   "metadata": {
    "id": "surrounded-shift"
   },
   "source": [
    "Julia Linhart, Roman Castagné, Louis Bouvier"
   ]
  },
  {
   "cell_type": "code",
   "execution_count": 6,
   "id": "sensitive-associate",
   "metadata": {
    "executionInfo": {
     "elapsed": 7718,
     "status": "ok",
     "timestamp": 1616594212247,
     "user": {
      "displayName": "Julia Linhart",
      "photoUrl": "",
      "userId": "01343193259563128268"
     },
     "user_tz": -60
    },
    "id": "sensitive-associate"
   },
   "outputs": [
    {
     "name": "stdout",
     "output_type": "stream",
     "text": [
      "The autoreload extension is already loaded. To reload it, use:\n",
      "  %reload_ext autoreload\n"
     ]
    }
   ],
   "source": [
    "%load_ext autoreload\n",
    "%autoreload 2\n",
    "\n",
    "import numpy as np\n",
    "import matplotlib.pyplot as plt\n",
    "import pandas as pd\n",
    "from functools import partial\n",
    "from scipy.spatial import distance_matrix\n",
    "from sklearn.base import BaseEstimator, ClassifierMixin\n",
    "from sklearn.model_selection import GridSearchCV\n",
    "import cvxpy as cp\n",
    "import warnings\n",
    "import time\n",
    "from itertools import product\n",
    "from numba import jit\n",
    "\n",
    "from utils import run_model, write_csv\n",
    "\n",
    "\n",
    "warnings.filterwarnings(\"ignore\", category=DeprecationWarning)"
   ]
  },
  {
   "cell_type": "markdown",
   "id": "remarkable-description",
   "metadata": {
    "id": "remarkable-description"
   },
   "source": [
    "# I) Preprocessing"
   ]
  },
  {
   "cell_type": "code",
   "execution_count": 7,
   "id": "developing-reference",
   "metadata": {
    "id": "developing-reference"
   },
   "outputs": [],
   "source": [
    "data_folder = 'data' # 'machine-learning-with-kernel-methods-2021'\n",
    "\n",
    "X_train_1 = pd.read_csv(f'{data_folder}/Xtr2_mat100.csv', sep = ' ', index_col=False, header=None)\n",
    "y_train_1 = pd.read_csv(f'{data_folder}/Ytr2.csv')"
   ]
  },
  {
   "cell_type": "code",
   "execution_count": 8,
   "id": "swedish-thriller",
   "metadata": {
    "colab": {
     "base_uri": "https://localhost:8080/",
     "height": 277
    },
    "executionInfo": {
     "elapsed": 1416,
     "status": "ok",
     "timestamp": 1615214717474,
     "user": {
      "displayName": "Julia Linhart",
      "photoUrl": "",
      "userId": "01343193259563128268"
     },
     "user_tz": -60
    },
    "id": "swedish-thriller",
    "outputId": "0ec06def-2c33-45fe-c193-dd58c3856c53"
   },
   "outputs": [
    {
     "data": {
      "text/html": [
       "<div>\n",
       "<style scoped>\n",
       "    .dataframe tbody tr th:only-of-type {\n",
       "        vertical-align: middle;\n",
       "    }\n",
       "\n",
       "    .dataframe tbody tr th {\n",
       "        vertical-align: top;\n",
       "    }\n",
       "\n",
       "    .dataframe thead th {\n",
       "        text-align: right;\n",
       "    }\n",
       "</style>\n",
       "<table border=\"1\" class=\"dataframe\">\n",
       "  <thead>\n",
       "    <tr style=\"text-align: right;\">\n",
       "      <th></th>\n",
       "      <th>Id</th>\n",
       "      <th>Bound</th>\n",
       "    </tr>\n",
       "  </thead>\n",
       "  <tbody>\n",
       "    <tr>\n",
       "      <th>count</th>\n",
       "      <td>2000.000000</td>\n",
       "      <td>2000.000000</td>\n",
       "    </tr>\n",
       "    <tr>\n",
       "      <th>mean</th>\n",
       "      <td>4999.500000</td>\n",
       "      <td>0.498500</td>\n",
       "    </tr>\n",
       "    <tr>\n",
       "      <th>std</th>\n",
       "      <td>577.494589</td>\n",
       "      <td>0.500123</td>\n",
       "    </tr>\n",
       "    <tr>\n",
       "      <th>min</th>\n",
       "      <td>4000.000000</td>\n",
       "      <td>0.000000</td>\n",
       "    </tr>\n",
       "    <tr>\n",
       "      <th>25%</th>\n",
       "      <td>4499.750000</td>\n",
       "      <td>0.000000</td>\n",
       "    </tr>\n",
       "    <tr>\n",
       "      <th>50%</th>\n",
       "      <td>4999.500000</td>\n",
       "      <td>0.000000</td>\n",
       "    </tr>\n",
       "    <tr>\n",
       "      <th>75%</th>\n",
       "      <td>5499.250000</td>\n",
       "      <td>1.000000</td>\n",
       "    </tr>\n",
       "    <tr>\n",
       "      <th>max</th>\n",
       "      <td>5999.000000</td>\n",
       "      <td>1.000000</td>\n",
       "    </tr>\n",
       "  </tbody>\n",
       "</table>\n",
       "</div>"
      ],
      "text/plain": [
       "                Id        Bound\n",
       "count  2000.000000  2000.000000\n",
       "mean   4999.500000     0.498500\n",
       "std     577.494589     0.500123\n",
       "min    4000.000000     0.000000\n",
       "25%    4499.750000     0.000000\n",
       "50%    4999.500000     0.000000\n",
       "75%    5499.250000     1.000000\n",
       "max    5999.000000     1.000000"
      ]
     },
     "execution_count": 8,
     "metadata": {},
     "output_type": "execute_result"
    }
   ],
   "source": [
    "y_train_1.describe()"
   ]
  },
  {
   "cell_type": "code",
   "execution_count": 9,
   "id": "burning-functionality",
   "metadata": {
    "id": "burning-functionality"
   },
   "outputs": [],
   "source": [
    "y_train_1 = np.array(y_train_1)[:,1]"
   ]
  },
  {
   "cell_type": "code",
   "execution_count": 10,
   "id": "variable-bearing",
   "metadata": {
    "colab": {
     "base_uri": "https://localhost:8080/",
     "height": 325
    },
    "executionInfo": {
     "elapsed": 1704,
     "status": "ok",
     "timestamp": 1615214718208,
     "user": {
      "displayName": "Julia Linhart",
      "photoUrl": "",
      "userId": "01343193259563128268"
     },
     "user_tz": -60
    },
    "id": "variable-bearing",
    "outputId": "d1954cab-929d-45ad-9036-ce37da327a36"
   },
   "outputs": [
    {
     "data": {
      "text/html": [
       "<div>\n",
       "<style scoped>\n",
       "    .dataframe tbody tr th:only-of-type {\n",
       "        vertical-align: middle;\n",
       "    }\n",
       "\n",
       "    .dataframe tbody tr th {\n",
       "        vertical-align: top;\n",
       "    }\n",
       "\n",
       "    .dataframe thead th {\n",
       "        text-align: right;\n",
       "    }\n",
       "</style>\n",
       "<table border=\"1\" class=\"dataframe\">\n",
       "  <thead>\n",
       "    <tr style=\"text-align: right;\">\n",
       "      <th></th>\n",
       "      <th>0</th>\n",
       "      <th>1</th>\n",
       "      <th>2</th>\n",
       "      <th>3</th>\n",
       "      <th>4</th>\n",
       "      <th>5</th>\n",
       "      <th>6</th>\n",
       "      <th>7</th>\n",
       "      <th>8</th>\n",
       "      <th>9</th>\n",
       "      <th>...</th>\n",
       "      <th>90</th>\n",
       "      <th>91</th>\n",
       "      <th>92</th>\n",
       "      <th>93</th>\n",
       "      <th>94</th>\n",
       "      <th>95</th>\n",
       "      <th>96</th>\n",
       "      <th>97</th>\n",
       "      <th>98</th>\n",
       "      <th>99</th>\n",
       "    </tr>\n",
       "  </thead>\n",
       "  <tbody>\n",
       "    <tr>\n",
       "      <th>count</th>\n",
       "      <td>2000.000000</td>\n",
       "      <td>2000.000000</td>\n",
       "      <td>2000.000000</td>\n",
       "      <td>2000.000000</td>\n",
       "      <td>2000.000000</td>\n",
       "      <td>2000.000000</td>\n",
       "      <td>2000.000000</td>\n",
       "      <td>2000.000000</td>\n",
       "      <td>2000.000000</td>\n",
       "      <td>2000.000000</td>\n",
       "      <td>...</td>\n",
       "      <td>2000.000000</td>\n",
       "      <td>2000.000000</td>\n",
       "      <td>2000.000000</td>\n",
       "      <td>2000.000000</td>\n",
       "      <td>2000.000000</td>\n",
       "      <td>2000.000000</td>\n",
       "      <td>2000.000000</td>\n",
       "      <td>2000.000000</td>\n",
       "      <td>2000.000000</td>\n",
       "      <td>2000.000000</td>\n",
       "    </tr>\n",
       "    <tr>\n",
       "      <th>mean</th>\n",
       "      <td>0.010565</td>\n",
       "      <td>0.010201</td>\n",
       "      <td>0.010375</td>\n",
       "      <td>0.011587</td>\n",
       "      <td>0.011609</td>\n",
       "      <td>0.010707</td>\n",
       "      <td>0.009359</td>\n",
       "      <td>0.011957</td>\n",
       "      <td>0.009571</td>\n",
       "      <td>0.010582</td>\n",
       "      <td>...</td>\n",
       "      <td>0.007951</td>\n",
       "      <td>0.009457</td>\n",
       "      <td>0.008554</td>\n",
       "      <td>0.009283</td>\n",
       "      <td>0.008261</td>\n",
       "      <td>0.009614</td>\n",
       "      <td>0.011141</td>\n",
       "      <td>0.009777</td>\n",
       "      <td>0.008217</td>\n",
       "      <td>0.008565</td>\n",
       "    </tr>\n",
       "    <tr>\n",
       "      <th>std</th>\n",
       "      <td>0.012278</td>\n",
       "      <td>0.010723</td>\n",
       "      <td>0.011467</td>\n",
       "      <td>0.011453</td>\n",
       "      <td>0.012182</td>\n",
       "      <td>0.010478</td>\n",
       "      <td>0.009789</td>\n",
       "      <td>0.012444</td>\n",
       "      <td>0.013805</td>\n",
       "      <td>0.013652</td>\n",
       "      <td>...</td>\n",
       "      <td>0.009605</td>\n",
       "      <td>0.009701</td>\n",
       "      <td>0.009350</td>\n",
       "      <td>0.009741</td>\n",
       "      <td>0.012341</td>\n",
       "      <td>0.010338</td>\n",
       "      <td>0.010863</td>\n",
       "      <td>0.010402</td>\n",
       "      <td>0.009709</td>\n",
       "      <td>0.009283</td>\n",
       "    </tr>\n",
       "    <tr>\n",
       "      <th>min</th>\n",
       "      <td>0.000000</td>\n",
       "      <td>0.000000</td>\n",
       "      <td>0.000000</td>\n",
       "      <td>0.000000</td>\n",
       "      <td>0.000000</td>\n",
       "      <td>0.000000</td>\n",
       "      <td>0.000000</td>\n",
       "      <td>0.000000</td>\n",
       "      <td>0.000000</td>\n",
       "      <td>0.000000</td>\n",
       "      <td>...</td>\n",
       "      <td>0.000000</td>\n",
       "      <td>0.000000</td>\n",
       "      <td>0.000000</td>\n",
       "      <td>0.000000</td>\n",
       "      <td>0.000000</td>\n",
       "      <td>0.000000</td>\n",
       "      <td>0.000000</td>\n",
       "      <td>0.000000</td>\n",
       "      <td>0.000000</td>\n",
       "      <td>0.000000</td>\n",
       "    </tr>\n",
       "    <tr>\n",
       "      <th>25%</th>\n",
       "      <td>0.000000</td>\n",
       "      <td>0.000000</td>\n",
       "      <td>0.000000</td>\n",
       "      <td>0.000000</td>\n",
       "      <td>0.000000</td>\n",
       "      <td>0.000000</td>\n",
       "      <td>0.000000</td>\n",
       "      <td>0.000000</td>\n",
       "      <td>0.000000</td>\n",
       "      <td>0.000000</td>\n",
       "      <td>...</td>\n",
       "      <td>0.000000</td>\n",
       "      <td>0.000000</td>\n",
       "      <td>0.000000</td>\n",
       "      <td>0.000000</td>\n",
       "      <td>0.000000</td>\n",
       "      <td>0.000000</td>\n",
       "      <td>0.000000</td>\n",
       "      <td>0.000000</td>\n",
       "      <td>0.000000</td>\n",
       "      <td>0.000000</td>\n",
       "    </tr>\n",
       "    <tr>\n",
       "      <th>50%</th>\n",
       "      <td>0.010870</td>\n",
       "      <td>0.010870</td>\n",
       "      <td>0.010870</td>\n",
       "      <td>0.010870</td>\n",
       "      <td>0.010870</td>\n",
       "      <td>0.010870</td>\n",
       "      <td>0.010870</td>\n",
       "      <td>0.010870</td>\n",
       "      <td>0.000000</td>\n",
       "      <td>0.010870</td>\n",
       "      <td>...</td>\n",
       "      <td>0.010870</td>\n",
       "      <td>0.010870</td>\n",
       "      <td>0.010870</td>\n",
       "      <td>0.010870</td>\n",
       "      <td>0.000000</td>\n",
       "      <td>0.010870</td>\n",
       "      <td>0.010870</td>\n",
       "      <td>0.010870</td>\n",
       "      <td>0.010870</td>\n",
       "      <td>0.010870</td>\n",
       "    </tr>\n",
       "    <tr>\n",
       "      <th>75%</th>\n",
       "      <td>0.010870</td>\n",
       "      <td>0.021739</td>\n",
       "      <td>0.021739</td>\n",
       "      <td>0.021739</td>\n",
       "      <td>0.021739</td>\n",
       "      <td>0.021739</td>\n",
       "      <td>0.010870</td>\n",
       "      <td>0.021739</td>\n",
       "      <td>0.010870</td>\n",
       "      <td>0.021739</td>\n",
       "      <td>...</td>\n",
       "      <td>0.010870</td>\n",
       "      <td>0.010870</td>\n",
       "      <td>0.010870</td>\n",
       "      <td>0.010870</td>\n",
       "      <td>0.010870</td>\n",
       "      <td>0.010870</td>\n",
       "      <td>0.021739</td>\n",
       "      <td>0.010870</td>\n",
       "      <td>0.010870</td>\n",
       "      <td>0.010870</td>\n",
       "    </tr>\n",
       "    <tr>\n",
       "      <th>max</th>\n",
       "      <td>0.086957</td>\n",
       "      <td>0.065217</td>\n",
       "      <td>0.097826</td>\n",
       "      <td>0.065217</td>\n",
       "      <td>0.065217</td>\n",
       "      <td>0.054348</td>\n",
       "      <td>0.054348</td>\n",
       "      <td>0.076087</td>\n",
       "      <td>0.097826</td>\n",
       "      <td>0.184783</td>\n",
       "      <td>...</td>\n",
       "      <td>0.054348</td>\n",
       "      <td>0.065217</td>\n",
       "      <td>0.054348</td>\n",
       "      <td>0.054348</td>\n",
       "      <td>0.086957</td>\n",
       "      <td>0.065217</td>\n",
       "      <td>0.076087</td>\n",
       "      <td>0.065217</td>\n",
       "      <td>0.065217</td>\n",
       "      <td>0.043478</td>\n",
       "    </tr>\n",
       "  </tbody>\n",
       "</table>\n",
       "<p>8 rows × 100 columns</p>\n",
       "</div>"
      ],
      "text/plain": [
       "                0            1            2            3            4   \\\n",
       "count  2000.000000  2000.000000  2000.000000  2000.000000  2000.000000   \n",
       "mean      0.010565     0.010201     0.010375     0.011587     0.011609   \n",
       "std       0.012278     0.010723     0.011467     0.011453     0.012182   \n",
       "min       0.000000     0.000000     0.000000     0.000000     0.000000   \n",
       "25%       0.000000     0.000000     0.000000     0.000000     0.000000   \n",
       "50%       0.010870     0.010870     0.010870     0.010870     0.010870   \n",
       "75%       0.010870     0.021739     0.021739     0.021739     0.021739   \n",
       "max       0.086957     0.065217     0.097826     0.065217     0.065217   \n",
       "\n",
       "                5            6            7            8            9   ...  \\\n",
       "count  2000.000000  2000.000000  2000.000000  2000.000000  2000.000000  ...   \n",
       "mean      0.010707     0.009359     0.011957     0.009571     0.010582  ...   \n",
       "std       0.010478     0.009789     0.012444     0.013805     0.013652  ...   \n",
       "min       0.000000     0.000000     0.000000     0.000000     0.000000  ...   \n",
       "25%       0.000000     0.000000     0.000000     0.000000     0.000000  ...   \n",
       "50%       0.010870     0.010870     0.010870     0.000000     0.010870  ...   \n",
       "75%       0.021739     0.010870     0.021739     0.010870     0.021739  ...   \n",
       "max       0.054348     0.054348     0.076087     0.097826     0.184783  ...   \n",
       "\n",
       "                90           91           92           93           94  \\\n",
       "count  2000.000000  2000.000000  2000.000000  2000.000000  2000.000000   \n",
       "mean      0.007951     0.009457     0.008554     0.009283     0.008261   \n",
       "std       0.009605     0.009701     0.009350     0.009741     0.012341   \n",
       "min       0.000000     0.000000     0.000000     0.000000     0.000000   \n",
       "25%       0.000000     0.000000     0.000000     0.000000     0.000000   \n",
       "50%       0.010870     0.010870     0.010870     0.010870     0.000000   \n",
       "75%       0.010870     0.010870     0.010870     0.010870     0.010870   \n",
       "max       0.054348     0.065217     0.054348     0.054348     0.086957   \n",
       "\n",
       "                95           96           97           98           99  \n",
       "count  2000.000000  2000.000000  2000.000000  2000.000000  2000.000000  \n",
       "mean      0.009614     0.011141     0.009777     0.008217     0.008565  \n",
       "std       0.010338     0.010863     0.010402     0.009709     0.009283  \n",
       "min       0.000000     0.000000     0.000000     0.000000     0.000000  \n",
       "25%       0.000000     0.000000     0.000000     0.000000     0.000000  \n",
       "50%       0.010870     0.010870     0.010870     0.010870     0.010870  \n",
       "75%       0.010870     0.021739     0.010870     0.010870     0.010870  \n",
       "max       0.065217     0.076087     0.065217     0.065217     0.043478  \n",
       "\n",
       "[8 rows x 100 columns]"
      ]
     },
     "execution_count": 10,
     "metadata": {},
     "output_type": "execute_result"
    }
   ],
   "source": [
    "X_train_1.describe()"
   ]
  },
  {
   "cell_type": "code",
   "execution_count": 11,
   "id": "precious-canvas",
   "metadata": {
    "id": "precious-canvas"
   },
   "outputs": [],
   "source": [
    "X_train_1 = np.array(X_train_1)\n",
    "X_train_1 = (X_train_1 - X_train_1.mean(axis=0))/X_train_1.std(axis=0)"
   ]
  },
  {
   "cell_type": "markdown",
   "id": "departmental-digest",
   "metadata": {
    "id": "departmental-digest"
   },
   "source": [
    "# II) First linear models of the mat100 input"
   ]
  },
  {
   "cell_type": "markdown",
   "id": "perfect-gambling",
   "metadata": {
    "id": "perfect-gambling"
   },
   "source": [
    "## A) Logistic regression"
   ]
  },
  {
   "cell_type": "code",
   "execution_count": null,
   "id": "micro-christopher",
   "metadata": {
    "colab": {
     "base_uri": "https://localhost:8080/"
    },
    "id": "micro-christopher",
    "outputId": "92650470-a6b5-46b8-8808-ce62ef26e537"
   },
   "outputs": [
    {
     "name": "stderr",
     "output_type": "stream",
     "text": [
      "C:\\Users\\roman\\Documents\\Academic\\2020_MVA\\S2_KernelMethods\\KM_challenge\\functions.py:103: FutureWarning: `rcond` parameter will change to the default of machine precision times ``max(M, N)`` where M and N are the input matrix dimensions.\n",
      "To use the future default and silence this warning we advise to pass `rcond=None`, to keep using the old, explicitly pass `rcond=-1`.\n",
      "  inv_hess, _, _, _ = np.linalg.lstsq(hess, np.eye(hess.shape[0]))\n",
      "C:\\Users\\roman\\Documents\\Academic\\2020_MVA\\S2_KernelMethods\\KM_challenge\\functions.py:111: FutureWarning: `rcond` parameter will change to the default of machine precision times ``max(M, N)`` where M and N are the input matrix dimensions.\n",
      "To use the future default and silence this warning we advise to pass `rcond=None`, to keep using the old, explicitly pass `rcond=-1`.\n",
      "  inv_hess, _, _, _ = np.linalg.lstsq(hess, np.eye(hess.shape[0]))\n"
     ]
    },
    {
     "name": "stdout",
     "output_type": "stream",
     "text": [
      "Accuracy on train set 0: 0.62\n",
      "Accuracy on test set 0 : 0.56\n",
      "Accuracy on train set 1: 0.60\n",
      "Accuracy on test set 1 : 0.59\n",
      "Accuracy on train set 2: 0.70\n",
      "Accuracy on test set 2 : 0.66\n"
     ]
    }
   ],
   "source": [
    "from utils import run_model\n",
    "\n",
    "run_model('logreg')"
   ]
  },
  {
   "cell_type": "code",
   "execution_count": null,
   "id": "sacred-bowling",
   "metadata": {
    "id": "sacred-bowling",
    "scrolled": true
   },
   "outputs": [],
   "source": [
    "from utils import write_csv\n",
    "\n",
    "ids = np.arange(all_y_eval.shape[0])\n",
    "filename = \"results/submission_log_reg.csv\"\n",
    "\n",
    "# write_csv(ids, all_y_eval, filename)"
   ]
  },
  {
   "cell_type": "markdown",
   "id": "regional-bhutan",
   "metadata": {
    "id": "regional-bhutan"
   },
   "source": [
    "## B) Ridge regression"
   ]
  },
  {
   "cell_type": "code",
   "execution_count": null,
   "id": "steady-diversity",
   "metadata": {
    "colab": {
     "base_uri": "https://localhost:8080/"
    },
    "id": "steady-diversity",
    "outputId": "a8e42c29-bb95-42cb-a4e8-093a9b6dc4c7"
   },
   "outputs": [
    {
     "name": "stdout",
     "output_type": "stream",
     "text": [
      "Accuracy on train set 0: 0.65\n",
      "Accuracy on test set 0 : 0.60\n",
      "Accuracy on train set 1: 0.64\n",
      "Accuracy on test set 1 : 0.57\n",
      "Accuracy on train set 2: 0.73\n",
      "Accuracy on test set 2 : 0.69\n"
     ]
    }
   ],
   "source": [
    "run_model('rr')"
   ]
  },
  {
   "cell_type": "markdown",
   "id": "attended-poetry",
   "metadata": {
    "id": "attended-poetry"
   },
   "source": [
    "# III) Kernel baselines "
   ]
  },
  {
   "cell_type": "markdown",
   "id": "front-music",
   "metadata": {
    "id": "front-music"
   },
   "source": [
    "## A) Gaussian Kernel"
   ]
  },
  {
   "cell_type": "markdown",
   "id": "german-frost",
   "metadata": {
    "id": "german-frost"
   },
   "source": [
    "### a) Kernel Ridge Regression"
   ]
  },
  {
   "cell_type": "code",
   "execution_count": null,
   "id": "neutral-proof",
   "metadata": {
    "colab": {
     "base_uri": "https://localhost:8080/"
    },
    "id": "neutral-proof",
    "outputId": "125e6fc4-ae04-4a84-be5f-0a094309014f"
   },
   "outputs": [
    {
     "name": "stdout",
     "output_type": "stream",
     "text": [
      "{'kernel': 'gaussian', 'lamb': 0.1, 'sigma': 0.5789473684210527}\n",
      "Accuracy on train set 0: 1.00\n",
      "Accuracy on test set 0 : 0.57\n",
      "{'kernel': 'gaussian', 'lamb': 0.1, 'sigma': 0.6578947368421053}\n",
      "Accuracy on train set 1: 1.00\n",
      "Accuracy on test set 1 : 0.59\n",
      "{'kernel': 'gaussian', 'lamb': 0.1, 'sigma': 0.5}\n",
      "Accuracy on train set 2: 1.00\n",
      "Accuracy on test set 2 : 0.67\n"
     ]
    }
   ],
   "source": [
    "## run kernel ridge regression with gaussian kernel\n",
    "run_model('krr', kernel='gaussian', prop_test=0.2, use_grid_search=True)"
   ]
  },
  {
   "cell_type": "markdown",
   "id": "central-container",
   "metadata": {
    "id": "central-container"
   },
   "source": [
    "### b) Kernel SVM"
   ]
  },
  {
   "cell_type": "code",
   "execution_count": null,
   "id": "medical-finger",
   "metadata": {
    "colab": {
     "base_uri": "https://localhost:8080/"
    },
    "id": "medical-finger",
    "outputId": "fb2f6572-8915-430a-962f-ae6f53f40a63"
   },
   "outputs": [
    {
     "name": "stdout",
     "output_type": "stream",
     "text": [
      "{'kernel': 'gaussian', 'lamb': 1e-07, 'sigma': 100.0}\n",
      "Accuracy on train set 0: 0.99\n",
      "Accuracy on test set 0 : 0.62\n",
      "{'kernel': 'gaussian', 'lamb': 1e-10, 'sigma': 1.0}\n",
      "Accuracy on train set 1: 1.00\n",
      "Accuracy on test set 1 : 0.60\n",
      "{'kernel': 'gaussian', 'lamb': 1e-07, 'sigma': 100.0}\n",
      "Accuracy on train set 2: 0.99\n",
      "Accuracy on test set 2 : 0.72\n"
     ]
    }
   ],
   "source": [
    "## run kernel SVM with gaussian kernel\n",
    "run_model('ksvm', kernel='gaussian', prop_test=0.2)"
   ]
  },
  {
   "cell_type": "markdown",
   "id": "foreign-computer",
   "metadata": {
    "id": "foreign-computer"
   },
   "source": [
    "## B) Spectrum kernel"
   ]
  },
  {
   "cell_type": "code",
   "execution_count": null,
   "id": "dress-guyana",
   "metadata": {
    "id": "dress-guyana"
   },
   "outputs": [],
   "source": [
    "from kernels import Spectrum_kernel"
   ]
  },
  {
   "cell_type": "code",
   "execution_count": null,
   "id": "impressive-antique",
   "metadata": {
    "id": "impressive-antique",
    "outputId": "d56aaefc-45af-4b11-f0da-6318adf4b2cd"
   },
   "outputs": [
    {
     "name": "stdout",
     "output_type": "stream",
     "text": [
      "Time to compute train kernel : 0.40921711921691895\n",
      "Time to compute train kernel : 0.41764307022094727\n",
      "Time to compute train kernel : 0.4125230312347412\n"
     ]
    }
   ],
   "source": [
    "# Example when using a precomputed kernel\n",
    "K = []\n",
    "for name in [0, 1, 2]:\n",
    "    X    = np.array(pd.read_csv(f'{data_folder}/Xtr{name}.csv')['seq'])\n",
    "    X_ev = np.array(pd.read_csv(f'{data_folder}/Xte{name}.csv')['seq'])\n",
    "    \n",
    "    t0 = time.time()\n",
    "    K_tr = Spectrum_kernel(X, X, k=6)\n",
    "    print(f\"Time to compute train kernel : {time.time() - t0}\")\n",
    "    K_te = Spectrum_kernel(X, X_ev, k=6)\n",
    "    \n",
    "    K.append({\"train\": K_tr, \"eval\": K_te})"
   ]
  },
  {
   "cell_type": "code",
   "execution_count": null,
   "id": "considered-mission",
   "metadata": {
    "id": "considered-mission"
   },
   "outputs": [],
   "source": [
    "## run kernel SVM with gaussian kernel\n",
    "run_model('ksvm', kernel='spectrum', K=K, sequence=True, prop_test=0.2)"
   ]
  },
  {
   "cell_type": "markdown",
   "id": "built-representative",
   "metadata": {
    "id": "built-representative"
   },
   "source": [
    "### a) Kernel SVM\n"
   ]
  },
  {
   "cell_type": "markdown",
   "id": "accompanied-moldova",
   "metadata": {
    "id": "accompanied-moldova"
   },
   "source": [
    "## C) Substring kernel"
   ]
  },
  {
   "cell_type": "code",
   "execution_count": null,
   "id": "metropolitan-banking",
   "metadata": {
    "id": "metropolitan-banking"
   },
   "outputs": [],
   "source": [
    "from kernels import substring_similarity, substring_kernel"
   ]
  },
  {
   "cell_type": "code",
   "execution_count": null,
   "id": "strange-purse",
   "metadata": {
    "colab": {
     "base_uri": "https://localhost:8080/"
    },
    "id": "strange-purse",
    "outputId": "7a52b61a-c3e9-4c1d-f4f2-5f5854ab29a1"
   },
   "outputs": [
    {
     "name": "stdout",
     "output_type": "stream",
     "text": [
      "Time to compute : 2.0617s\n",
      "Value : 0.9799999999999999\n",
      "Expected value : 0.5978489999999999\n"
     ]
    }
   ],
   "source": [
    "# Run similarity between two strings\n",
    "t0 = time.time()\n",
    "# k = substring_similarity(\"ATGCATGATGCATG\", \"ATGCATCATGATGT\", 3, 1.)\n",
    "# k = substring_similarity(\"ATGC\", \"ATGC\", 3, 0.7)\n",
    "k = substring_similarity(\"cat\", \"cat\", 1, 0.7)\n",
    "k_expected = 2 * 0.7 ** 4 + 0.7 ** 6\n",
    "print(f\"Time to compute : {time.time() - t0:.4f}s\")\n",
    "print(f\"Value : {k}\")\n",
    "print(f\"Expected value : {k_expected}\")"
   ]
  },
  {
   "cell_type": "code",
   "execution_count": null,
   "id": "premier-modern",
   "metadata": {
    "colab": {
     "base_uri": "https://localhost:8080/"
    },
    "id": "premier-modern",
    "outputId": "6ae87ab4-9256-4e02-8d79-c208210f80a0"
   },
   "outputs": [
    {
     "name": "stdout",
     "output_type": "stream",
     "text": [
      "Time to compute K : 76.18s\n"
     ]
    }
   ],
   "source": [
    "# Run kernel computation between N strings\n",
    "X = pd.read_csv(f'{data_folder}/Xtr0.csv', sep = ',').to_numpy()\n",
    "X = X[:100,1]\n",
    "t0 = time.time()\n",
    "K = substring_kernel(X, X, k=5, lambd=0.7)\n",
    "print(f\"Time to compute K : {time.time() - t0:.2f}s\")\n",
    "# print(K)"
   ]
  },
  {
   "cell_type": "markdown",
   "id": "imported-pontiac",
   "metadata": {
    "id": "imported-pontiac"
   },
   "source": [
    "## D) Mismatch kernel"
   ]
  },
  {
   "cell_type": "code",
   "execution_count": null,
   "id": "acoustic-girlfriend",
   "metadata": {
    "id": "acoustic-girlfriend"
   },
   "outputs": [],
   "source": [
    "from kernels import Mismatch_kernel"
   ]
  },
  {
   "cell_type": "code",
   "execution_count": null,
   "id": "piano-medication",
   "metadata": {
    "id": "piano-medication"
   },
   "outputs": [],
   "source": [
    "# Example when using a precomputed kernel\n",
    "K = []\n",
    "k=9\n",
    "m=4\n",
    "for name in [0, 1, 2]:\n",
    "    X    = np.array(pd.read_csv(f'{data_folder}/Xtr{name}.csv')['seq'])\n",
    "    X_ev = np.array(pd.read_csv(f'{data_folder}/Xte{name}.csv')['seq'])\n",
    "    \n",
    "    t0 = time.time()\n",
    "    K_tr = Mismatch_kernel(X, X, k=k, m=m)\n",
    "    np.save('results/dataset_{}_mismatch_K_tr_{}_{}.npy'.format(name,k,m), K_tr)\n",
    "    print(f\"Time to compute train kernel : {time.time() - t0}\")\n",
    "    K_te = Mismatch_kernel(X, X_ev, k=k, m=m)\n",
    "    np.save('results/dataset_{}_mismatch_K_te_{}_{}.npy'.format(name,k,m), K_te)\n",
    "\n",
    "    \n",
    "    K.append({\"train\": K_tr, \"eval\": K_te})"
   ]
  },
  {
   "cell_type": "code",
   "execution_count": null,
   "id": "FhtG9maPgmp8",
   "metadata": {
    "id": "FhtG9maPgmp8"
   },
   "outputs": [],
   "source": [
    "kernels = [[6,2],[7,3]]\n",
    "\n",
    "K=[]\n",
    "for name in [0,1,2]:\n",
    "    K_tr = 0\n",
    "    K_te = 0\n",
    "    for kernel in kernels:\n",
    "        K_tr = K_tr + np.load('results/dataset_{}_mismatch_K_tr_{}_{}.npy'.format(name,kernel[0],kernel[1]))\n",
    "        K_te = K_te + np.load('results/dataset_{}_mismatch_K_te_{}_{}.npy'.format(name,kernel[0],kernel[1]))\n",
    "    K.append({\"train\": K_tr, \"eval\": K_te})"
   ]
  },
  {
   "cell_type": "code",
   "execution_count": null,
   "id": "global-vertical",
   "metadata": {
    "id": "global-vertical",
    "outputId": "6e2b5541-2366-417f-c2dd-8fa57568e3fd"
   },
   "outputs": [
    {
     "name": "stdout",
     "output_type": "stream",
     "text": [
      "Accuracy on train set 0: 0.97\n",
      "Accuracy on test set 0 : 0.66\n",
      "Accuracy on train set 1: 0.98\n",
      "Accuracy on test set 1 : 0.63\n",
      "Accuracy on train set 2: 0.98\n",
      "Accuracy on test set 2 : 0.75\n"
     ]
    }
   ],
   "source": [
    "y_eval = run_model('ksvm', kernel='mismatch', K=K, sequence=True, prop_test=0.3)"
   ]
  },
  {
   "cell_type": "code",
   "execution_count": null,
   "id": "vanilla-marine",
   "metadata": {
    "id": "vanilla-marine"
   },
   "outputs": [],
   "source": [
    "ids = np.arange(y_eval.shape[0])\n",
    "filename = \"results/submission_sum_mismatch_7_3_6_2_lamb=10.csv\"\n",
    "write_csv(ids, y_eval, filename)"
   ]
  },
  {
   "cell_type": "markdown",
   "id": "mKACO0Kq6GM3",
   "metadata": {
    "id": "mKACO0Kq6GM3"
   },
   "source": [
    "## E) Fisher kernel"
   ]
  },
  {
   "cell_type": "code",
   "execution_count": 5,
   "id": "_hSkeEys6tCF",
   "metadata": {
    "executionInfo": {
     "elapsed": 783,
     "status": "ok",
     "timestamp": 1616594214758,
     "user": {
      "displayName": "Julia Linhart",
      "photoUrl": "",
      "userId": "01343193259563128268"
     },
     "user_tz": -60
    },
    "id": "_hSkeEys6tCF"
   },
   "outputs": [],
   "source": [
    "from utils import init_model, run_model\n",
    "from kernels import spectrum_matrix, emission_probs, Fisher_kernel"
   ]
  },
  {
   "cell_type": "code",
   "execution_count": 6,
   "id": "impressive-russia",
   "metadata": {
    "executionInfo": {
     "elapsed": 4052,
     "status": "ok",
     "timestamp": 1616594219303,
     "user": {
      "displayName": "Julia Linhart",
      "photoUrl": "",
      "userId": "01343193259563128268"
     },
     "user_tz": -60
    },
    "id": "impressive-russia"
   },
   "outputs": [],
   "source": [
    "data_folder = 'data'\n",
    "\n",
    "X_pos = []\n",
    "\n",
    "for name in [0,1,2]:\n",
    "  X = pd.read_csv(f'{data_folder}/Xtr{name}.csv')\n",
    "  X = np.array(X['seq'])\n",
    "  y = pd.read_csv(f'{data_folder}/Ytr{name}.csv')\n",
    "  y = np.array(y['Bound'])\n",
    "  df = pd.DataFrame({'Sequence':X,'Label':y})\n",
    "  X_pos.append(np.array(df[df['Label']==1]['Sequence']))\n",
    "\n",
    "X_pos0 = X_pos[0]\n",
    "X_pos1 = X_pos[1]\n",
    "X_pos2 = X_pos[2]"
   ]
  },
  {
   "cell_type": "code",
   "execution_count": null,
   "id": "tjybwEBw6OQn",
   "metadata": {
    "id": "tjybwEBw6OQn"
   },
   "outputs": [],
   "source": [
    "#precompute kernel \n",
    "K = []\n",
    "for name in [0, 1, 2]:\n",
    "    X    = np.array(pd.read_csv(f'{data_folder}/Xtr{name}.csv')['seq'])\n",
    "    X_ev = np.array(pd.read_csv(f'{data_folder}/Xte{name}.csv')['seq'])\n",
    "    \n",
    "    t0 = time.time()\n",
    "    K_tr = Fisher_kernel(X, X,X_pos[name], k=5)\n",
    "    print(f\"Time to compute train kernel : {time.time() - t0}\")\n",
    "    K_te = Fisher_kernel(X, X_ev, X_pos[name], k=5)\n",
    "    \n",
    "    K.append({\"train\": K_tr, \"eval\": K_te})\n",
    "\n",
    "for name in [0, 1, 2]:\n",
    "  K[name]['train'] = K_tr+10e-8*np.eye(K_tr.shape[0])\n",
    "\n",
    "\n",
    "np.save('fisher_kernels_k5_alldata.npy',K)"
   ]
  },
  {
   "cell_type": "code",
   "execution_count": null,
   "id": "TE5N4KnM7MdW",
   "metadata": {
    "colab": {
     "base_uri": "https://localhost:8080/"
    },
    "executionInfo": {
     "elapsed": 64267,
     "status": "ok",
     "timestamp": 1615223864593,
     "user": {
      "displayName": "Julia Linhart",
      "photoUrl": "",
      "userId": "01343193259563128268"
     },
     "user_tz": -60
    },
    "id": "TE5N4KnM7MdW",
    "outputId": "83a0f07c-1562-485e-c51b-cd735544becf"
   },
   "outputs": [
    {
     "name": "stdout",
     "output_type": "stream",
     "text": [
      "Accuracy on train set 0: 0.53\n",
      "Accuracy on test set 0 : 0.50\n",
      "Accuracy on train set 1: 0.52\n",
      "Accuracy on test set 1 : 0.50\n",
      "Accuracy on train set 2: 0.52\n",
      "Accuracy on test set 2 : 0.50\n"
     ]
    }
   ],
   "source": [
    "default_params = {'lamb': 15, 'sigma': 1.2, 'k': [5]}\n",
    "y_eval = run_model('ksvm', kernel='fisher', K=K, sequence=True, prop_test=0.001,default_params=default_params)"
   ]
  },
  {
   "cell_type": "markdown",
   "id": "v99LHMaICHsL",
   "metadata": {
    "id": "v99LHMaICHsL"
   },
   "source": [
    "## F) TF-IDF representation of data"
   ]
  },
  {
   "cell_type": "code",
   "execution_count": null,
   "id": "ytY_kZZVgmqC",
   "metadata": {
    "id": "ytY_kZZVgmqC"
   },
   "outputs": [],
   "source": [
    "from kernels import Gaussian_kernel, compute_TFIDF"
   ]
  },
  {
   "cell_type": "code",
   "execution_count": null,
   "id": "tLqdAzXXgmqC",
   "metadata": {
    "id": "tLqdAzXXgmqC",
    "outputId": "b6477475-7454-42f9-ac0d-50725a6289f5"
   },
   "outputs": [
    {
     "name": "stdout",
     "output_type": "stream",
     "text": [
      "Time to compute train kernel : 2.443631172180176\n",
      "Time to compute train kernel : 2.4078073501586914\n",
      "Time to compute train kernel : 2.467449188232422\n"
     ]
    }
   ],
   "source": [
    "data_folder = \"data\"\n",
    "\n",
    "K = []\n",
    "\n",
    "for name in [0, 1, 2]:\n",
    "    X    = np.array(pd.read_csv(f'{data_folder}/Xtr{name}.csv')['seq'])\n",
    "    X_ev = np.array(pd.read_csv(f'{data_folder}/Xte{name}.csv')['seq'])\n",
    "    \n",
    "    X_tfidf, idf = compute_TFIDF(X, k=3, bool_return_idf=True)\n",
    "    X_tfidf_ev = compute_TFIDF(X_ev, k=3, idf=idf)\n",
    "    \n",
    "    t0 = time.time()\n",
    "    K_tr = Gaussian_kernel(X_tfidf, X_tfidf, sig=0.5)\n",
    "    print(f\"Time to compute train kernel : {time.time() - t0}\")\n",
    "    K_te = Gaussian_kernel(X_tfidf, X_tfidf_ev, sig=0.5)\n",
    "\n",
    "    \n",
    "    K.append({\"train\": K_tr, \"eval\": K_te})"
   ]
  },
  {
   "cell_type": "code",
   "execution_count": null,
   "id": "hnueT3jggmqD",
   "metadata": {
    "id": "hnueT3jggmqD",
    "outputId": "5baea5db-f040-4462-cead-3f6276367364"
   },
   "outputs": [
    {
     "name": "stdout",
     "output_type": "stream",
     "text": [
      "Accuracy on train set 0: 0.93\n",
      "Accuracy on test set 0 : 0.50\n",
      "Accuracy on train set 1: 0.67\n",
      "Accuracy on test set 1 : 0.50\n",
      "Accuracy on train set 2: 1.00\n",
      "Accuracy on test set 2 : 0.62\n"
     ]
    },
    {
     "data": {
      "text/plain": [
       "array([ 1, -1, -1, ..., -1, -1, -1])"
      ]
     },
     "execution_count": 70,
     "metadata": {
      "tags": []
     },
     "output_type": "execute_result"
    }
   ],
   "source": [
    "default_params = {\"lamb\": 10000}\n",
    "\n",
    "run_model('ksvm', kernel='gaussian', K=K, sequence=True, prop_test=0.2, default_params=default_params)"
   ]
  },
  {
   "cell_type": "markdown",
   "id": "8nlTDnvagmqD",
   "metadata": {
    "id": "8nlTDnvagmqD"
   },
   "source": [
    "### G) Simple MKL"
   ]
  },
  {
   "cell_type": "code",
   "execution_count": 12,
   "id": "12P5GrBCgmqD",
   "metadata": {
    "id": "12P5GrBCgmqD"
   },
   "outputs": [],
   "source": [
    "from kernels import Spectrum_kernel\n",
    "from kernel_models import KernelSVM\n",
    "from utils import load_precomputed_kernel"
   ]
  },
  {
   "cell_type": "code",
   "execution_count": 13,
   "id": "agmKYU7XgmqE",
   "metadata": {
    "id": "agmKYU7XgmqE",
    "outputId": "817bd689-9a62-4bde-aeae-4e860fcba81b"
   },
   "outputs": [],
   "source": [
    "# Example when using a precomputed kernel\n",
    "K = [{\"train\": [], \"eval\": []} for _ in range(3)]\n",
    "for name in [0, 1, 2]:\n",
    "    X    = np.array(pd.read_csv(f'{data_folder}/Xtr{name}.csv')['seq'])\n",
    "    X_ev = np.array(pd.read_csv(f'{data_folder}/Xte{name}.csv')['seq'])\n",
    "    \n",
    "    t0 = time.time()\n",
    "    K_tr = np.load('results/dataset_{}_mismatch_K_tr_{}_{}.npy'.format(name,7, 3))\n",
    "    K_te = np.load('results/dataset_{}_mismatch_K_te_{}_{}.npy'.format(name, 7, 3))\n",
    "    \n",
    "    K[name][\"train\"].append(K_tr)\n",
    "    K[name][\"eval\"].append(K_te) \n",
    "    \n",
    "for name in [0, 1, 2]:\n",
    "    X    = np.array(pd.read_csv(f'{data_folder}/Xtr{name}.csv')['seq'])\n",
    "    X_ev = np.array(pd.read_csv(f'{data_folder}/Xte{name}.csv')['seq'])\n",
    "    \n",
    "    t0 = time.time()\n",
    "    K_tr = np.load('results/dataset_{}_mismatch_K_tr_{}_{}.npy'.format(name,7, 1))\n",
    "    K_te = np.load('results/dataset_{}_mismatch_K_te_{}_{}.npy'.format(name, 7, 1))\n",
    "    \n",
    "    K[name][\"train\"].append(K_tr)\n",
    "    K[name][\"eval\"].append(K_te)\n",
    "    \n",
    "# Example when using a precomputed kernel\n",
    "for name in [0, 1, 2]:\n",
    "    X    = np.array(pd.read_csv(f'{data_folder}/Xtr{name}.csv')['seq'])\n",
    "    X_ev = np.array(pd.read_csv(f'{data_folder}/Xte{name}.csv')['seq'])\n",
    "    \n",
    "    K_tr = np.load('results/dataset_{}_spectrum_K_tr_{}.npy'.format(name, 6))\n",
    "    K_te = np.load('results/dataset_{}_spectrum_K_te_{}.npy'.format(name, 6))\n",
    "    \n",
    "    K[name][\"train\"].append(K_tr)\n",
    "    K[name][\"eval\"].append(K_te)"
   ]
  },
  {
   "cell_type": "code",
   "execution_count": 17,
   "id": "6oKMKFdCgmqE",
   "metadata": {
    "id": "6oKMKFdCgmqE",
    "outputId": "90d15123-345e-454e-8190-284775c6c29a"
   },
   "outputs": [
    {
     "name": "stdout",
     "output_type": "stream",
     "text": [
      "Optimal weights for kernels: [0.37284516 0.31540164 0.3117532 ]\n",
      "Accuracy on train set 0: 0.94\n",
      "Accuracy on test set 0 : 0.65\n",
      "\n",
      "Optimal weights for kernels: [0.37403746 0.31480924 0.3111533 ]\n",
      "Accuracy on train set 1: 0.95\n",
      "Accuracy on test set 1 : 0.62\n",
      "\n",
      "Optimal weights for kernels: [0.36743082 0.31780314 0.31476604]\n",
      "Accuracy on train set 2: 0.95\n",
      "Accuracy on test set 2 : 0.76\n",
      "\n"
     ]
    }
   ],
   "source": [
    "default_params = {\"lamb\": 5, \"step\": .1}\n",
    "y_eval = run_model('ksvm', kernel='', K=K, sequence=True, prop_test=0.3, default_params=default_params, use_mkl=True, mkl_iterations=10)"
   ]
  }
 ],
 "metadata": {
  "colab": {
   "collapsed_sections": [],
   "name": "KM_challenge_new.ipynb",
   "provenance": [],
   "toc_visible": true
  },
  "kernelspec": {
   "display_name": "Python 3",
   "language": "python",
   "name": "python3"
  },
  "language_info": {
   "codemirror_mode": {
    "name": "ipython",
    "version": 3
   },
   "file_extension": ".py",
   "mimetype": "text/x-python",
   "name": "python",
   "nbconvert_exporter": "python",
   "pygments_lexer": "ipython3",
   "version": "3.7.3"
  }
 },
 "nbformat": 4,
 "nbformat_minor": 5
}
